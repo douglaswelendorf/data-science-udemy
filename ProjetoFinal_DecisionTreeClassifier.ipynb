{
 "cells": [
  {
   "cell_type": "markdown",
   "id": "dc6d1dbc-d6f0-4709-a04e-e02a01ab4859",
   "metadata": {},
   "source": [
    "PROJETO PRÁTICO FINAL\n",
    "\n",
    "DECISION TREE CLASSIFIER\n",
    "\n",
    "por DOUGLAS WELENDORF"
   ]
  },
  {
   "cell_type": "code",
   "execution_count": 1,
   "id": "40bc0fed-7d55-4161-8f72-b779f4ae03aa",
   "metadata": {
    "tags": []
   },
   "outputs": [],
   "source": [
    "# INÍCIO TRATAMENTO DE DADOS"
   ]
  },
  {
   "cell_type": "code",
   "execution_count": 2,
   "id": "ac541327-65c2-487b-8223-edcd965dd7df",
   "metadata": {
    "tags": []
   },
   "outputs": [],
   "source": [
    "# bibliotecas\n",
    "import psycopg2 #integração ao PostgreSQL\n",
    "import pandas as pd #lib de manipulação dos dados\n",
    "import seaborn as srn #lib de visualização de dados\n",
    "import statistics as sts #modulo de estatística básica\n",
    "\n",
    "# decision tree classifier\n",
    "from sklearn.model_selection import train_test_split\n",
    "from sklearn.preprocessing import LabelEncoder\n",
    "from sklearn.metrics import confusion_matrix, accuracy_score\n",
    "from sklearn.tree import DecisionTreeClassifier\n",
    "import graphviz\n",
    "from sklearn.tree import export_graphviz"
   ]
  },
  {
   "cell_type": "code",
   "execution_count": 3,
   "id": "f529b6d4-77f4-4f41-b69f-ba558de832eb",
   "metadata": {
    "tags": []
   },
   "outputs": [
    {
     "data": {
      "text/html": [
       "<div>\n",
       "<style scoped>\n",
       "    .dataframe tbody tr th:only-of-type {\n",
       "        vertical-align: middle;\n",
       "    }\n",
       "\n",
       "    .dataframe tbody tr th {\n",
       "        vertical-align: top;\n",
       "    }\n",
       "\n",
       "    .dataframe thead th {\n",
       "        text-align: right;\n",
       "    }\n",
       "</style>\n",
       "<table border=\"1\" class=\"dataframe\">\n",
       "  <thead>\n",
       "    <tr style=\"text-align: right;\">\n",
       "      <th></th>\n",
       "      <th>IDCREDITO</th>\n",
       "      <th>Duracao</th>\n",
       "      <th>HistoricoCredito</th>\n",
       "      <th>Proposito</th>\n",
       "      <th>Valor</th>\n",
       "      <th>Investimentos</th>\n",
       "      <th>Emprego</th>\n",
       "      <th>TempoParcelamento</th>\n",
       "      <th>EstadoCivil</th>\n",
       "      <th>FiadorTerceiros</th>\n",
       "      <th>ResidenciaDesde</th>\n",
       "      <th>Idade</th>\n",
       "      <th>OutrosFinanciamentos</th>\n",
       "      <th>Habitacao</th>\n",
       "      <th>EmprestimoExistente</th>\n",
       "      <th>Profissao</th>\n",
       "      <th>Dependentes</th>\n",
       "      <th>SocioEmpresa</th>\n",
       "      <th>Estrangeiro</th>\n",
       "      <th>Status</th>\n",
       "    </tr>\n",
       "  </thead>\n",
       "  <tbody>\n",
       "    <tr>\n",
       "      <th>64</th>\n",
       "      <td>1</td>\n",
       "      <td>6</td>\n",
       "      <td>0</td>\n",
       "      <td>1</td>\n",
       "      <td>1169</td>\n",
       "      <td>1</td>\n",
       "      <td>NaN</td>\n",
       "      <td>4</td>\n",
       "      <td>4</td>\n",
       "      <td>3</td>\n",
       "      <td>4.0</td>\n",
       "      <td>67</td>\n",
       "      <td>3</td>\n",
       "      <td>1.0</td>\n",
       "      <td>2</td>\n",
       "      <td>4</td>\n",
       "      <td>1</td>\n",
       "      <td>1</td>\n",
       "      <td>0</td>\n",
       "      <td>1</td>\n",
       "    </tr>\n",
       "    <tr>\n",
       "      <th>0</th>\n",
       "      <td>2</td>\n",
       "      <td>48</td>\n",
       "      <td>2</td>\n",
       "      <td>1</td>\n",
       "      <td>5951</td>\n",
       "      <td>2</td>\n",
       "      <td>3.0</td>\n",
       "      <td>2</td>\n",
       "      <td>1</td>\n",
       "      <td>3</td>\n",
       "      <td>2.0</td>\n",
       "      <td>22</td>\n",
       "      <td>3</td>\n",
       "      <td>1.0</td>\n",
       "      <td>1</td>\n",
       "      <td>4</td>\n",
       "      <td>1</td>\n",
       "      <td>0</td>\n",
       "      <td>0</td>\n",
       "      <td>0</td>\n",
       "    </tr>\n",
       "    <tr>\n",
       "      <th>1</th>\n",
       "      <td>3</td>\n",
       "      <td>12</td>\n",
       "      <td>1</td>\n",
       "      <td>2</td>\n",
       "      <td>2096</td>\n",
       "      <td>2</td>\n",
       "      <td>4.0</td>\n",
       "      <td>2</td>\n",
       "      <td>4</td>\n",
       "      <td>3</td>\n",
       "      <td>3.0</td>\n",
       "      <td>49</td>\n",
       "      <td>3</td>\n",
       "      <td>1.0</td>\n",
       "      <td>1</td>\n",
       "      <td>3</td>\n",
       "      <td>2</td>\n",
       "      <td>0</td>\n",
       "      <td>0</td>\n",
       "      <td>1</td>\n",
       "    </tr>\n",
       "    <tr>\n",
       "      <th>2</th>\n",
       "      <td>4</td>\n",
       "      <td>42</td>\n",
       "      <td>2</td>\n",
       "      <td>3</td>\n",
       "      <td>7882</td>\n",
       "      <td>2</td>\n",
       "      <td>4.0</td>\n",
       "      <td>2</td>\n",
       "      <td>4</td>\n",
       "      <td>4</td>\n",
       "      <td>4.0</td>\n",
       "      <td>45</td>\n",
       "      <td>3</td>\n",
       "      <td>2.0</td>\n",
       "      <td>1</td>\n",
       "      <td>4</td>\n",
       "      <td>2</td>\n",
       "      <td>0</td>\n",
       "      <td>0</td>\n",
       "      <td>1</td>\n",
       "    </tr>\n",
       "    <tr>\n",
       "      <th>3</th>\n",
       "      <td>5</td>\n",
       "      <td>24</td>\n",
       "      <td>3</td>\n",
       "      <td>4</td>\n",
       "      <td>4870</td>\n",
       "      <td>2</td>\n",
       "      <td>3.0</td>\n",
       "      <td>3</td>\n",
       "      <td>4</td>\n",
       "      <td>3</td>\n",
       "      <td>4.0</td>\n",
       "      <td>53</td>\n",
       "      <td>3</td>\n",
       "      <td>2.0</td>\n",
       "      <td>2</td>\n",
       "      <td>4</td>\n",
       "      <td>2</td>\n",
       "      <td>0</td>\n",
       "      <td>0</td>\n",
       "      <td>0</td>\n",
       "    </tr>\n",
       "    <tr>\n",
       "      <th>...</th>\n",
       "      <td>...</td>\n",
       "      <td>...</td>\n",
       "      <td>...</td>\n",
       "      <td>...</td>\n",
       "      <td>...</td>\n",
       "      <td>...</td>\n",
       "      <td>...</td>\n",
       "      <td>...</td>\n",
       "      <td>...</td>\n",
       "      <td>...</td>\n",
       "      <td>...</td>\n",
       "      <td>...</td>\n",
       "      <td>...</td>\n",
       "      <td>...</td>\n",
       "      <td>...</td>\n",
       "      <td>...</td>\n",
       "      <td>...</td>\n",
       "      <td>...</td>\n",
       "      <td>...</td>\n",
       "      <td>...</td>\n",
       "    </tr>\n",
       "    <tr>\n",
       "      <th>973</th>\n",
       "      <td>996</td>\n",
       "      <td>12</td>\n",
       "      <td>2</td>\n",
       "      <td>3</td>\n",
       "      <td>1736</td>\n",
       "      <td>2</td>\n",
       "      <td>4.0</td>\n",
       "      <td>3</td>\n",
       "      <td>1</td>\n",
       "      <td>3</td>\n",
       "      <td>4.0</td>\n",
       "      <td>31</td>\n",
       "      <td>3</td>\n",
       "      <td>1.0</td>\n",
       "      <td>1</td>\n",
       "      <td>3</td>\n",
       "      <td>1</td>\n",
       "      <td>0</td>\n",
       "      <td>0</td>\n",
       "      <td>1</td>\n",
       "    </tr>\n",
       "    <tr>\n",
       "      <th>974</th>\n",
       "      <td>997</td>\n",
       "      <td>30</td>\n",
       "      <td>2</td>\n",
       "      <td>5</td>\n",
       "      <td>3857</td>\n",
       "      <td>2</td>\n",
       "      <td>3.0</td>\n",
       "      <td>4</td>\n",
       "      <td>2</td>\n",
       "      <td>3</td>\n",
       "      <td>4.0</td>\n",
       "      <td>40</td>\n",
       "      <td>3</td>\n",
       "      <td>1.0</td>\n",
       "      <td>1</td>\n",
       "      <td>1</td>\n",
       "      <td>1</td>\n",
       "      <td>1</td>\n",
       "      <td>0</td>\n",
       "      <td>1</td>\n",
       "    </tr>\n",
       "    <tr>\n",
       "      <th>975</th>\n",
       "      <td>998</td>\n",
       "      <td>12</td>\n",
       "      <td>2</td>\n",
       "      <td>1</td>\n",
       "      <td>804</td>\n",
       "      <td>2</td>\n",
       "      <td>2.0</td>\n",
       "      <td>4</td>\n",
       "      <td>4</td>\n",
       "      <td>3</td>\n",
       "      <td>4.0</td>\n",
       "      <td>38</td>\n",
       "      <td>3</td>\n",
       "      <td>1.0</td>\n",
       "      <td>1</td>\n",
       "      <td>4</td>\n",
       "      <td>1</td>\n",
       "      <td>0</td>\n",
       "      <td>0</td>\n",
       "      <td>1</td>\n",
       "    </tr>\n",
       "    <tr>\n",
       "      <th>976</th>\n",
       "      <td>999</td>\n",
       "      <td>45</td>\n",
       "      <td>2</td>\n",
       "      <td>1</td>\n",
       "      <td>1845</td>\n",
       "      <td>2</td>\n",
       "      <td>3.0</td>\n",
       "      <td>4</td>\n",
       "      <td>4</td>\n",
       "      <td>3</td>\n",
       "      <td>4.0</td>\n",
       "      <td>23</td>\n",
       "      <td>3</td>\n",
       "      <td>2.0</td>\n",
       "      <td>1</td>\n",
       "      <td>4</td>\n",
       "      <td>1</td>\n",
       "      <td>1</td>\n",
       "      <td>0</td>\n",
       "      <td>0</td>\n",
       "    </tr>\n",
       "    <tr>\n",
       "      <th>977</th>\n",
       "      <td>1000</td>\n",
       "      <td>45</td>\n",
       "      <td>1</td>\n",
       "      <td>5</td>\n",
       "      <td>4576</td>\n",
       "      <td>5</td>\n",
       "      <td>5.0</td>\n",
       "      <td>3</td>\n",
       "      <td>4</td>\n",
       "      <td>3</td>\n",
       "      <td>4.0</td>\n",
       "      <td>27</td>\n",
       "      <td>3</td>\n",
       "      <td>1.0</td>\n",
       "      <td>1</td>\n",
       "      <td>4</td>\n",
       "      <td>1</td>\n",
       "      <td>0</td>\n",
       "      <td>0</td>\n",
       "      <td>1</td>\n",
       "    </tr>\n",
       "  </tbody>\n",
       "</table>\n",
       "<p>1000 rows × 20 columns</p>\n",
       "</div>"
      ],
      "text/plain": [
       "     IDCREDITO  Duracao  HistoricoCredito  Proposito  Valor  Investimentos  \\\n",
       "64           1        6                 0          1   1169              1   \n",
       "0            2       48                 2          1   5951              2   \n",
       "1            3       12                 1          2   2096              2   \n",
       "2            4       42                 2          3   7882              2   \n",
       "3            5       24                 3          4   4870              2   \n",
       "..         ...      ...               ...        ...    ...            ...   \n",
       "973        996       12                 2          3   1736              2   \n",
       "974        997       30                 2          5   3857              2   \n",
       "975        998       12                 2          1    804              2   \n",
       "976        999       45                 2          1   1845              2   \n",
       "977       1000       45                 1          5   4576              5   \n",
       "\n",
       "     Emprego  TempoParcelamento  EstadoCivil  FiadorTerceiros  \\\n",
       "64       NaN                  4            4                3   \n",
       "0        3.0                  2            1                3   \n",
       "1        4.0                  2            4                3   \n",
       "2        4.0                  2            4                4   \n",
       "3        3.0                  3            4                3   \n",
       "..       ...                ...          ...              ...   \n",
       "973      4.0                  3            1                3   \n",
       "974      3.0                  4            2                3   \n",
       "975      2.0                  4            4                3   \n",
       "976      3.0                  4            4                3   \n",
       "977      5.0                  3            4                3   \n",
       "\n",
       "     ResidenciaDesde  Idade  OutrosFinanciamentos  Habitacao  \\\n",
       "64               4.0     67                     3        1.0   \n",
       "0                2.0     22                     3        1.0   \n",
       "1                3.0     49                     3        1.0   \n",
       "2                4.0     45                     3        2.0   \n",
       "3                4.0     53                     3        2.0   \n",
       "..               ...    ...                   ...        ...   \n",
       "973              4.0     31                     3        1.0   \n",
       "974              4.0     40                     3        1.0   \n",
       "975              4.0     38                     3        1.0   \n",
       "976              4.0     23                     3        2.0   \n",
       "977              4.0     27                     3        1.0   \n",
       "\n",
       "     EmprestimoExistente  Profissao  Dependentes  SocioEmpresa  Estrangeiro  \\\n",
       "64                     2          4            1             1            0   \n",
       "0                      1          4            1             0            0   \n",
       "1                      1          3            2             0            0   \n",
       "2                      1          4            2             0            0   \n",
       "3                      2          4            2             0            0   \n",
       "..                   ...        ...          ...           ...          ...   \n",
       "973                    1          3            1             0            0   \n",
       "974                    1          1            1             1            0   \n",
       "975                    1          4            1             0            0   \n",
       "976                    1          4            1             1            0   \n",
       "977                    1          4            1             0            0   \n",
       "\n",
       "     Status  \n",
       "64        1  \n",
       "0         0  \n",
       "1         1  \n",
       "2         1  \n",
       "3         0  \n",
       "..      ...  \n",
       "973       1  \n",
       "974       1  \n",
       "975       1  \n",
       "976       0  \n",
       "977       1  \n",
       "\n",
       "[1000 rows x 20 columns]"
      ]
     },
     "execution_count": 3,
     "metadata": {},
     "output_type": "execute_result"
    }
   ],
   "source": [
    "#conexão com BD\n",
    "conn = psycopg2.connect(dbname=\"proj\", user=\"postgres\", password=\"123456\")\n",
    "\n",
    "#cursor para executar os comandos\n",
    "cur = conn.cursor()\n",
    "\n",
    "#limpeza e tratamento da tabela credito\n",
    "cur.execute(\"SELECT * FROM credito\")\n",
    "\n",
    "#recuperar todos os registros da consulta\n",
    "registros = cur.fetchall()\n",
    "\n",
    "#dados da tabela credito\n",
    "dataset = pd.DataFrame(registros)\n",
    "\n",
    "#nomear colunas (SQL)\n",
    "dataset.columns = [\"IDCREDITO\", \"Duracao\", \"HistoricoCredito\", \"Proposito\", \"Valor\", \"Investimentos\", \"Emprego\", \"TempoParcelamento\", \"EstadoCivil\", \"FiadorTerceiros\", \"ResidenciaDesde\", \"Idade\", \"OutrosFinanciamentos\", \"Habitacao\", \"EmprestimoExistente\", \"Profissao\", \"Dependentes\", \"SocioEmpresa\", \"Estrangeiro\", \"Status\"]\n",
    "\n",
    "#ordem crescente pelo ID\n",
    "dataset.sort_values([\"IDCREDITO\"], ascending=True)"
   ]
  },
  {
   "cell_type": "code",
   "execution_count": 4,
   "id": "5ded0d24-44bb-48ee-9490-56a71fbae50c",
   "metadata": {
    "tags": []
   },
   "outputs": [
    {
     "data": {
      "text/html": [
       "<div>\n",
       "<style scoped>\n",
       "    .dataframe tbody tr th:only-of-type {\n",
       "        vertical-align: middle;\n",
       "    }\n",
       "\n",
       "    .dataframe tbody tr th {\n",
       "        vertical-align: top;\n",
       "    }\n",
       "\n",
       "    .dataframe thead th {\n",
       "        text-align: right;\n",
       "    }\n",
       "</style>\n",
       "<table border=\"1\" class=\"dataframe\">\n",
       "  <thead>\n",
       "    <tr style=\"text-align: right;\">\n",
       "      <th></th>\n",
       "      <th>IDCREDITO</th>\n",
       "      <th>Duracao</th>\n",
       "      <th>HistoricoCredito</th>\n",
       "      <th>Proposito</th>\n",
       "      <th>Valor</th>\n",
       "      <th>Investimentos</th>\n",
       "      <th>Emprego</th>\n",
       "      <th>TempoParcelamento</th>\n",
       "      <th>EstadoCivil</th>\n",
       "      <th>FiadorTerceiros</th>\n",
       "      <th>ResidenciaDesde</th>\n",
       "      <th>Idade</th>\n",
       "      <th>OutrosFinanciamentos</th>\n",
       "      <th>Habitacao</th>\n",
       "      <th>EmprestimoExistente</th>\n",
       "      <th>Profissao</th>\n",
       "      <th>Dependentes</th>\n",
       "      <th>SocioEmpresa</th>\n",
       "      <th>Estrangeiro</th>\n",
       "      <th>Status</th>\n",
       "    </tr>\n",
       "  </thead>\n",
       "  <tbody>\n",
       "  </tbody>\n",
       "</table>\n",
       "</div>"
      ],
      "text/plain": [
       "Empty DataFrame\n",
       "Columns: [IDCREDITO, Duracao, HistoricoCredito, Proposito, Valor, Investimentos, Emprego, TempoParcelamento, EstadoCivil, FiadorTerceiros, ResidenciaDesde, Idade, OutrosFinanciamentos, Habitacao, EmprestimoExistente, Profissao, Dependentes, SocioEmpresa, Estrangeiro, Status]\n",
       "Index: []"
      ]
     },
     "execution_count": 4,
     "metadata": {},
     "output_type": "execute_result"
    }
   ],
   "source": [
    "#verificar dados duplicados no IDCREDITO\n",
    "dataset[dataset.duplicated(['IDCREDITO'],keep=False)]"
   ]
  },
  {
   "cell_type": "code",
   "execution_count": 5,
   "id": "7afeb038-83c8-44a2-8502-18d671050f13",
   "metadata": {
    "tags": []
   },
   "outputs": [
    {
     "data": {
      "text/plain": [
       "IDCREDITO                0\n",
       "Duracao                  0\n",
       "HistoricoCredito         0\n",
       "Proposito                0\n",
       "Valor                    0\n",
       "Investimentos            0\n",
       "Emprego                 10\n",
       "TempoParcelamento        0\n",
       "EstadoCivil              0\n",
       "FiadorTerceiros          0\n",
       "ResidenciaDesde          7\n",
       "Idade                    0\n",
       "OutrosFinanciamentos     0\n",
       "Habitacao                9\n",
       "EmprestimoExistente      0\n",
       "Profissao                0\n",
       "Dependentes              0\n",
       "SocioEmpresa             0\n",
       "Estrangeiro              0\n",
       "Status                   0\n",
       "dtype: int64"
      ]
     },
     "execution_count": 5,
     "metadata": {},
     "output_type": "execute_result"
    }
   ],
   "source": [
    "#verificar valores NAN\n",
    "dataset.isnull().sum()"
   ]
  },
  {
   "cell_type": "code",
   "execution_count": 6,
   "id": "0183a101-8c7c-4dbf-bf82-d261b85f4f4f",
   "metadata": {
    "tags": []
   },
   "outputs": [],
   "source": [
    "# IDCREDITO = id\n",
    "# Duracao = numérico\n",
    "# HistoricoCredito = categórico\n",
    "# Proposito = categórico\n",
    "# Valor = numérico\n",
    "# Investimentos = categórico\n",
    "# Emprego = categórico\n",
    "# TempoParcelamento = categórico (desconhecido / sem tabela SQL)\n",
    "# EstadoCivil = categórico\n",
    "# FiadorTerceiros = categórico\n",
    "# ResidenciaDesde = categórico (desconhecido / sem tabela SQL)\n",
    "# Idade = numérico\n",
    "# OutrosFinanciamentos = categórico\n",
    "# Habitacao = categórico\n",
    "# EmprestimoExistente = categórico (desconhecido / sem tabela SQL)\n",
    "# Profissao = categórico\n",
    "# Dependentes = categórico (desconhecido / sem tabela SQL)\n",
    "# SocioEmpresa = categórico (desconhecido / sem tabela SQL)\n",
    "# Estrangeiro = categórico (desconhecido / sem tabela SQL)\n",
    "# Status = categórico (desconhecido / sem tabela SQL)\n",
    "\n",
    "# SQL tables: clientes, credito, emprego, estadocivil, fiador, habitacao, historico_credito, investimentos, outrosfinanc, profissao, proposito"
   ]
  },
  {
   "cell_type": "code",
   "execution_count": 7,
   "id": "819840dc-a104-4c5a-9a8b-5a3eb51cb085",
   "metadata": {
    "tags": []
   },
   "outputs": [
    {
     "data": {
      "text/plain": [
       "count    1000.000000\n",
       "mean       20.903000\n",
       "std        12.058814\n",
       "min         4.000000\n",
       "25%        12.000000\n",
       "50%        18.000000\n",
       "75%        24.000000\n",
       "max        72.000000\n",
       "Name: Duracao, dtype: float64"
      ]
     },
     "execution_count": 7,
     "metadata": {},
     "output_type": "execute_result"
    }
   ],
   "source": [
    "# dado numérico\n",
    "dataset['Duracao'].describe()"
   ]
  },
  {
   "cell_type": "code",
   "execution_count": 8,
   "id": "af6f2cd6-1095-4c04-ae44-a9d7070d5228",
   "metadata": {
    "tags": []
   },
   "outputs": [
    {
     "data": {
      "text/plain": [
       "<seaborn.axisgrid.FacetGrid at 0x17324f26290>"
      ]
     },
     "execution_count": 8,
     "metadata": {},
     "output_type": "execute_result"
    },
    {
     "data": {
      "image/png": "[encoded data removed]",
      "text/plain": [
       "<Figure size 500x500 with 1 Axes>"
      ]
     },
     "metadata": {},
     "output_type": "display_data"
    }
   ],
   "source": [
    "srn.displot(dataset['Duracao'], kde=True)"
   ]
  },
  {
   "cell_type": "code",
   "execution_count": 9,
   "id": "ec73a412-b812-4d70-9b68-b3c976152dcd",
   "metadata": {
    "tags": []
   },
   "outputs": [
    {
     "data": {
      "text/plain": [
       "Text(0.5, 1.0, 'Duracao')"
      ]
     },
     "execution_count": 9,
     "metadata": {},
     "output_type": "execute_result"
    },
    {
     "data": {
      "image/png": "[encoded data removed]",
      "text/plain": [
       "<Figure size 640x480 with 1 Axes>"
      ]
     },
     "metadata": {},
     "output_type": "display_data"
    }
   ],
   "source": [
    "srn.boxplot(dataset['Duracao']).set_title('Duracao')"
   ]
  },
  {
   "cell_type": "code",
   "execution_count": 10,
   "id": "238dbd64-8cc1-422c-8969-ef92871b3294",
   "metadata": {},
   "outputs": [
    {
     "data": {
      "text/plain": [
       "HistoricoCredito\n",
       "0     11\n",
       "1    289\n",
       "2    526\n",
       "3     86\n",
       "4     40\n",
       "5     48\n",
       "dtype: int64"
      ]
     },
     "execution_count": 10,
     "metadata": {},
     "output_type": "execute_result"
    }
   ],
   "source": [
    "# dado categórico\n",
    "dataset.groupby(['HistoricoCredito']).size()"
   ]
  },
  {
   "cell_type": "code",
   "execution_count": 11,
   "id": "c1fbfa90-9bf1-4be1-a305-baee5bd5d31e",
   "metadata": {},
   "outputs": [
    {
     "data": {
      "text/html": [
       "<div>\n",
       "<style scoped>\n",
       "    .dataframe tbody tr th:only-of-type {\n",
       "        vertical-align: middle;\n",
       "    }\n",
       "\n",
       "    .dataframe tbody tr th {\n",
       "        vertical-align: top;\n",
       "    }\n",
       "\n",
       "    .dataframe thead th {\n",
       "        text-align: right;\n",
       "    }\n",
       "</style>\n",
       "<table border=\"1\" class=\"dataframe\">\n",
       "  <thead>\n",
       "    <tr style=\"text-align: right;\">\n",
       "      <th></th>\n",
       "      <th>0</th>\n",
       "      <th>1</th>\n",
       "    </tr>\n",
       "  </thead>\n",
       "  <tbody>\n",
       "    <tr>\n",
       "      <th>0</th>\n",
       "      <td>1</td>\n",
       "      <td>Critico-outros creditos</td>\n",
       "    </tr>\n",
       "    <tr>\n",
       "      <th>1</th>\n",
       "      <td>2</td>\n",
       "      <td>existentes/pagos</td>\n",
       "    </tr>\n",
       "    <tr>\n",
       "      <th>2</th>\n",
       "      <td>3</td>\n",
       "      <td>Atrasos anteriores</td>\n",
       "    </tr>\n",
       "    <tr>\n",
       "      <th>3</th>\n",
       "      <td>4</td>\n",
       "      <td>sem creditos/todos pagos</td>\n",
       "    </tr>\n",
       "    <tr>\n",
       "      <th>4</th>\n",
       "      <td>5</td>\n",
       "      <td>todos pagos</td>\n",
       "    </tr>\n",
       "  </tbody>\n",
       "</table>\n",
       "</div>"
      ],
      "text/plain": [
       "   0                         1\n",
       "0  1   Critico-outros creditos\n",
       "1  2          existentes/pagos\n",
       "2  3        Atrasos anteriores\n",
       "3  4  sem creditos/todos pagos\n",
       "4  5               todos pagos"
      ]
     },
     "execution_count": 11,
     "metadata": {},
     "output_type": "execute_result"
    }
   ],
   "source": [
    "# consulta SQL table historico_credito\n",
    "cur.execute(\"SELECT * FROM historico_credito\")\n",
    "registros = cur.fetchall()\n",
    "HistoricoCreditoSql = pd.DataFrame(registros)\n",
    "HistoricoCreditoSql"
   ]
  },
  {
   "cell_type": "code",
   "execution_count": 12,
   "id": "dcf3837a-856a-43dc-88f8-18ef8c2a0e0c",
   "metadata": {
    "tags": []
   },
   "outputs": [
    {
     "data": {
      "text/plain": [
       "HistoricoCredito\n",
       "1    289\n",
       "2    537\n",
       "3     86\n",
       "4     40\n",
       "5     48\n",
       "dtype: int64"
      ]
     },
     "execution_count": 12,
     "metadata": {},
     "output_type": "execute_result"
    }
   ],
   "source": [
    "# correção de dados da coluna HistoricoCredito \n",
    "dataset.loc[dataset['HistoricoCredito'] ==  0, 'HistoricoCredito'] = 2\n",
    "dataset.groupby(['HistoricoCredito']).size()"
   ]
  },
  {
   "cell_type": "code",
   "execution_count": 13,
   "id": "73fec930-72d8-4b69-a8d0-04856732b2bc",
   "metadata": {},
   "outputs": [
    {
     "data": {
      "text/plain": [
       "Proposito\n",
       "1     280\n",
       "2      50\n",
       "3     181\n",
       "4     234\n",
       "5     103\n",
       "6      97\n",
       "7      12\n",
       "8      22\n",
       "9      12\n",
       "10      9\n",
       "dtype: int64"
      ]
     },
     "execution_count": 13,
     "metadata": {},
     "output_type": "execute_result"
    }
   ],
   "source": [
    "# dado categórico\n",
    "dataset.groupby(['Proposito']).size()"
   ]
  },
  {
   "cell_type": "code",
   "execution_count": 14,
   "id": "5517f52d-5e28-4480-863c-692f98c3d8c9",
   "metadata": {
    "tags": []
   },
   "outputs": [
    {
     "data": {
      "text/html": [
       "<div>\n",
       "<style scoped>\n",
       "    .dataframe tbody tr th:only-of-type {\n",
       "        vertical-align: middle;\n",
       "    }\n",
       "\n",
       "    .dataframe tbody tr th {\n",
       "        vertical-align: top;\n",
       "    }\n",
       "\n",
       "    .dataframe thead th {\n",
       "        text-align: right;\n",
       "    }\n",
       "</style>\n",
       "<table border=\"1\" class=\"dataframe\">\n",
       "  <thead>\n",
       "    <tr style=\"text-align: right;\">\n",
       "      <th></th>\n",
       "      <th>0</th>\n",
       "      <th>1</th>\n",
       "    </tr>\n",
       "  </thead>\n",
       "  <tbody>\n",
       "    <tr>\n",
       "      <th>0</th>\n",
       "      <td>1</td>\n",
       "      <td>reforma</td>\n",
       "    </tr>\n",
       "    <tr>\n",
       "      <th>1</th>\n",
       "      <td>2</td>\n",
       "      <td>educacao</td>\n",
       "    </tr>\n",
       "    <tr>\n",
       "      <th>2</th>\n",
       "      <td>3</td>\n",
       "      <td>moveis</td>\n",
       "    </tr>\n",
       "    <tr>\n",
       "      <th>3</th>\n",
       "      <td>4</td>\n",
       "      <td>veiculo novo</td>\n",
       "    </tr>\n",
       "    <tr>\n",
       "      <th>4</th>\n",
       "      <td>5</td>\n",
       "      <td>veiculo usado</td>\n",
       "    </tr>\n",
       "    <tr>\n",
       "      <th>5</th>\n",
       "      <td>6</td>\n",
       "      <td>abrir negocio</td>\n",
       "    </tr>\n",
       "    <tr>\n",
       "      <th>6</th>\n",
       "      <td>7</td>\n",
       "      <td>quitar divida</td>\n",
       "    </tr>\n",
       "    <tr>\n",
       "      <th>7</th>\n",
       "      <td>8</td>\n",
       "      <td>reforma casa</td>\n",
       "    </tr>\n",
       "    <tr>\n",
       "      <th>8</th>\n",
       "      <td>9</td>\n",
       "      <td>outros</td>\n",
       "    </tr>\n",
       "    <tr>\n",
       "      <th>9</th>\n",
       "      <td>10</td>\n",
       "      <td>qualificacao</td>\n",
       "    </tr>\n",
       "  </tbody>\n",
       "</table>\n",
       "</div>"
      ],
      "text/plain": [
       "    0              1\n",
       "0   1        reforma\n",
       "1   2       educacao\n",
       "2   3         moveis\n",
       "3   4   veiculo novo\n",
       "4   5  veiculo usado\n",
       "5   6  abrir negocio\n",
       "6   7  quitar divida\n",
       "7   8   reforma casa\n",
       "8   9         outros\n",
       "9  10   qualificacao"
      ]
     },
     "execution_count": 14,
     "metadata": {},
     "output_type": "execute_result"
    }
   ],
   "source": [
    "# consulta SQL table proposito\n",
    "cur.execute(\"SELECT * FROM proposito\")\n",
    "registros = cur.fetchall()\n",
    "PropositoSql = pd.DataFrame(registros)\n",
    "PropositoSql"
   ]
  },
  {
   "cell_type": "code",
   "execution_count": 15,
   "id": "8c73afb1-3173-48c4-a0d5-11c90e29eede",
   "metadata": {},
   "outputs": [
    {
     "data": {
      "text/plain": [
       "count     1000.000000\n",
       "mean      3271.258000\n",
       "std       2822.736876\n",
       "min        250.000000\n",
       "25%       1365.500000\n",
       "50%       2319.500000\n",
       "75%       3972.250000\n",
       "max      18424.000000\n",
       "Name: Valor, dtype: float64"
      ]
     },
     "execution_count": 15,
     "metadata": {},
     "output_type": "execute_result"
    }
   ],
   "source": [
    "# dado numérico\n",
    "dataset['Valor'].describe()"
   ]
  },
  {
   "cell_type": "code",
   "execution_count": 16,
   "id": "6941c573-a8f0-4b0b-b4b7-1dff9c424726",
   "metadata": {
    "tags": []
   },
   "outputs": [
    {
     "data": {
      "text/plain": [
       "<seaborn.axisgrid.FacetGrid at 0x1732887d610>"
      ]
     },
     "execution_count": 16,
     "metadata": {},
     "output_type": "execute_result"
    },
    {
     "data": {
      "image/png": "[encoded data removed]",
      "text/plain": [
       "<Figure size 500x500 with 1 Axes>"
      ]
     },
     "metadata": {},
     "output_type": "display_data"
    }
   ],
   "source": [
    "srn.displot(dataset['Valor'], kde=True)"
   ]
  },
  {
   "cell_type": "code",
   "execution_count": 17,
   "id": "03055cb9-5554-4bbd-aea1-c83ce7721e33",
   "metadata": {
    "tags": []
   },
   "outputs": [
    {
     "data": {
      "text/plain": [
       "Text(0.5, 1.0, 'Valor')"
      ]
     },
     "execution_count": 17,
     "metadata": {},
     "output_type": "execute_result"
    },
    {
     "data": {
      "image/png": "[encoded data removed]",
      "text/plain": [
       "<Figure size 640x480 with 1 Axes>"
      ]
     },
     "metadata": {},
     "output_type": "display_data"
    }
   ],
   "source": [
    "srn.boxplot(dataset['Valor']).set_title('Valor')"
   ]
  },
  {
   "cell_type": "code",
   "execution_count": 18,
   "id": "2ceda80e-4223-4d4e-894a-919436c1d531",
   "metadata": {},
   "outputs": [
    {
     "data": {
      "text/plain": [
       "Investimentos\n",
       "1    183\n",
       "2    603\n",
       "3     63\n",
       "4     48\n",
       "5    103\n",
       "dtype: int64"
      ]
     },
     "execution_count": 18,
     "metadata": {},
     "output_type": "execute_result"
    }
   ],
   "source": [
    "# dado categórico\n",
    "dataset.groupby(['Investimentos']).size()"
   ]
  },
  {
   "cell_type": "code",
   "execution_count": 19,
   "id": "6bec3634-d54d-4923-9d27-3a96821f4178",
   "metadata": {
    "tags": []
   },
   "outputs": [
    {
     "data": {
      "text/html": [
       "<div>\n",
       "<style scoped>\n",
       "    .dataframe tbody tr th:only-of-type {\n",
       "        vertical-align: middle;\n",
       "    }\n",
       "\n",
       "    .dataframe tbody tr th {\n",
       "        vertical-align: top;\n",
       "    }\n",
       "\n",
       "    .dataframe thead th {\n",
       "        text-align: right;\n",
       "    }\n",
       "</style>\n",
       "<table border=\"1\" class=\"dataframe\">\n",
       "  <thead>\n",
       "    <tr style=\"text-align: right;\">\n",
       "      <th></th>\n",
       "      <th>0</th>\n",
       "      <th>1</th>\n",
       "    </tr>\n",
       "  </thead>\n",
       "  <tbody>\n",
       "    <tr>\n",
       "      <th>0</th>\n",
       "      <td>1</td>\n",
       "      <td>Desconhecido\\n</td>\n",
       "    </tr>\n",
       "    <tr>\n",
       "      <th>1</th>\n",
       "      <td>2</td>\n",
       "      <td>&lt;100\\n</td>\n",
       "    </tr>\n",
       "    <tr>\n",
       "      <th>2</th>\n",
       "      <td>3</td>\n",
       "      <td>500&lt;=X&lt;1000</td>\n",
       "    </tr>\n",
       "    <tr>\n",
       "      <th>3</th>\n",
       "      <td>4</td>\n",
       "      <td>&gt;=1000</td>\n",
       "    </tr>\n",
       "    <tr>\n",
       "      <th>4</th>\n",
       "      <td>5</td>\n",
       "      <td>100&lt;=X&lt;500</td>\n",
       "    </tr>\n",
       "  </tbody>\n",
       "</table>\n",
       "</div>"
      ],
      "text/plain": [
       "   0               1\n",
       "0  1  Desconhecido\\n\n",
       "1  2          <100\\n\n",
       "2  3     500<=X<1000\n",
       "3  4          >=1000\n",
       "4  5      100<=X<500"
      ]
     },
     "execution_count": 19,
     "metadata": {},
     "output_type": "execute_result"
    }
   ],
   "source": [
    "# consulta SQL table investimentos\n",
    "cur.execute(\"SELECT * FROM investimentos\")\n",
    "registros = cur.fetchall()\n",
    "InvestimentosSql = pd.DataFrame(registros)\n",
    "InvestimentosSql"
   ]
  },
  {
   "cell_type": "code",
   "execution_count": 20,
   "id": "72a15713-3427-4a86-b0c1-4bfce7b6101c",
   "metadata": {},
   "outputs": [
    {
     "data": {
      "text/plain": [
       "Emprego\n",
       "1.0    171\n",
       "2.0    247\n",
       "3.0    338\n",
       "4.0    172\n",
       "5.0     62\n",
       "dtype: int64"
      ]
     },
     "execution_count": 20,
     "metadata": {},
     "output_type": "execute_result"
    }
   ],
   "source": [
    "# dado categórico\n",
    "dataset.groupby(['Emprego']).size()"
   ]
  },
  {
   "cell_type": "code",
   "execution_count": 21,
   "id": "91d00bcb-ede7-49d8-99c3-9111cc37d76c",
   "metadata": {
    "tags": []
   },
   "outputs": [
    {
     "data": {
      "text/html": [
       "<div>\n",
       "<style scoped>\n",
       "    .dataframe tbody tr th:only-of-type {\n",
       "        vertical-align: middle;\n",
       "    }\n",
       "\n",
       "    .dataframe tbody tr th {\n",
       "        vertical-align: top;\n",
       "    }\n",
       "\n",
       "    .dataframe thead th {\n",
       "        text-align: right;\n",
       "    }\n",
       "</style>\n",
       "<table border=\"1\" class=\"dataframe\">\n",
       "  <thead>\n",
       "    <tr style=\"text-align: right;\">\n",
       "      <th></th>\n",
       "      <th>0</th>\n",
       "      <th>1</th>\n",
       "    </tr>\n",
       "  </thead>\n",
       "  <tbody>\n",
       "    <tr>\n",
       "      <th>0</th>\n",
       "      <td>1</td>\n",
       "      <td>&lt;1</td>\n",
       "    </tr>\n",
       "    <tr>\n",
       "      <th>1</th>\n",
       "      <td>2</td>\n",
       "      <td>&gt;=7</td>\n",
       "    </tr>\n",
       "    <tr>\n",
       "      <th>2</th>\n",
       "      <td>3</td>\n",
       "      <td>1&lt;=X&lt;4</td>\n",
       "    </tr>\n",
       "    <tr>\n",
       "      <th>3</th>\n",
       "      <td>4</td>\n",
       "      <td>4&lt;=X&lt;7</td>\n",
       "    </tr>\n",
       "    <tr>\n",
       "      <th>4</th>\n",
       "      <td>5</td>\n",
       "      <td>Desempregado</td>\n",
       "    </tr>\n",
       "  </tbody>\n",
       "</table>\n",
       "</div>"
      ],
      "text/plain": [
       "   0             1\n",
       "0  1            <1\n",
       "1  2           >=7\n",
       "2  3        1<=X<4\n",
       "3  4        4<=X<7\n",
       "4  5  Desempregado"
      ]
     },
     "execution_count": 21,
     "metadata": {},
     "output_type": "execute_result"
    }
   ],
   "source": [
    "# consulta SQL table emprego\n",
    "cur.execute(\"SELECT * FROM emprego\")\n",
    "registros = cur.fetchall()\n",
    "EmpregoSql = pd.DataFrame(registros)\n",
    "EmpregoSql"
   ]
  },
  {
   "cell_type": "code",
   "execution_count": 22,
   "id": "5ed6f90f-d853-4d12-90c8-03b31d1c4f38",
   "metadata": {
    "tags": []
   },
   "outputs": [
    {
     "data": {
      "text/plain": [
       "10"
      ]
     },
     "execution_count": 22,
     "metadata": {},
     "output_type": "execute_result"
    }
   ],
   "source": [
    "# total de NAs em Emprego\n",
    "dataset['Emprego'].isnull().sum()"
   ]
  },
  {
   "cell_type": "code",
   "execution_count": 23,
   "id": "25baa360-2541-42b1-8eaf-c6bb99a1f556",
   "metadata": {
    "tags": []
   },
   "outputs": [
    {
     "data": {
      "text/plain": [
       "0"
      ]
     },
     "execution_count": 23,
     "metadata": {},
     "output_type": "execute_result"
    }
   ],
   "source": [
    "# preencher NAs com a moda do Emprego (3) e verifica alteração\n",
    "dataset['Emprego'].fillna(3, inplace=True)\n",
    "dataset['Emprego'].isnull().sum()"
   ]
  },
  {
   "cell_type": "code",
   "execution_count": 24,
   "id": "b142fad4-750c-44e2-9f5e-b0ca66434dc9",
   "metadata": {
    "tags": []
   },
   "outputs": [
    {
     "data": {
      "text/plain": [
       "Emprego\n",
       "1.0    171\n",
       "2.0    247\n",
       "3.0    348\n",
       "4.0    172\n",
       "5.0     62\n",
       "dtype: int64"
      ]
     },
     "execution_count": 24,
     "metadata": {},
     "output_type": "execute_result"
    }
   ],
   "source": [
    "# verificação\n",
    "dataset.groupby(['Emprego']).size()"
   ]
  },
  {
   "cell_type": "code",
   "execution_count": 25,
   "id": "943c8f47-0de9-4e99-8f71-9a5d15cfc14d",
   "metadata": {},
   "outputs": [
    {
     "data": {
      "text/plain": [
       "TempoParcelamento\n",
       "1    136\n",
       "2    231\n",
       "3    157\n",
       "4    476\n",
       "dtype: int64"
      ]
     },
     "execution_count": 25,
     "metadata": {},
     "output_type": "execute_result"
    }
   ],
   "source": [
    "# dado categórico (desconhecido / sem tabela SQL)\n",
    "dataset.groupby(['TempoParcelamento']).size()"
   ]
  },
  {
   "cell_type": "code",
   "execution_count": 26,
   "id": "894338ea-16dd-4788-af15-e0b280edcb3a",
   "metadata": {},
   "outputs": [
    {
     "data": {
      "text/plain": [
       "EstadoCivil\n",
       "1    310\n",
       "2     50\n",
       "3     92\n",
       "4    548\n",
       "dtype: int64"
      ]
     },
     "execution_count": 26,
     "metadata": {},
     "output_type": "execute_result"
    }
   ],
   "source": [
    "# dado categórico\n",
    "dataset.groupby(['EstadoCivil']).size()"
   ]
  },
  {
   "cell_type": "code",
   "execution_count": 27,
   "id": "13417457-12fc-467d-927b-debe5d7a4441",
   "metadata": {
    "tags": []
   },
   "outputs": [
    {
     "data": {
      "text/html": [
       "<div>\n",
       "<style scoped>\n",
       "    .dataframe tbody tr th:only-of-type {\n",
       "        vertical-align: middle;\n",
       "    }\n",
       "\n",
       "    .dataframe tbody tr th {\n",
       "        vertical-align: top;\n",
       "    }\n",
       "\n",
       "    .dataframe thead th {\n",
       "        text-align: right;\n",
       "    }\n",
       "</style>\n",
       "<table border=\"1\" class=\"dataframe\">\n",
       "  <thead>\n",
       "    <tr style=\"text-align: right;\">\n",
       "      <th></th>\n",
       "      <th>0</th>\n",
       "      <th>1</th>\n",
       "    </tr>\n",
       "  </thead>\n",
       "  <tbody>\n",
       "    <tr>\n",
       "      <th>0</th>\n",
       "      <td>1</td>\n",
       "      <td>feminino div/dep/cas</td>\n",
       "    </tr>\n",
       "    <tr>\n",
       "      <th>1</th>\n",
       "      <td>2</td>\n",
       "      <td>maculino div/dep</td>\n",
       "    </tr>\n",
       "    <tr>\n",
       "      <th>2</th>\n",
       "      <td>3</td>\n",
       "      <td>masculino cas/viu</td>\n",
       "    </tr>\n",
       "    <tr>\n",
       "      <th>3</th>\n",
       "      <td>4</td>\n",
       "      <td>masculino solteiro</td>\n",
       "    </tr>\n",
       "  </tbody>\n",
       "</table>\n",
       "</div>"
      ],
      "text/plain": [
       "   0                     1\n",
       "0  1  feminino div/dep/cas\n",
       "1  2      maculino div/dep\n",
       "2  3     masculino cas/viu\n",
       "3  4    masculino solteiro"
      ]
     },
     "execution_count": 27,
     "metadata": {},
     "output_type": "execute_result"
    }
   ],
   "source": [
    "# consulta SQL table estadocivil\n",
    "cur.execute(\"SELECT * FROM estadocivil\")\n",
    "registros = cur.fetchall()\n",
    "EstadoCivilSql = pd.DataFrame(registros)\n",
    "EstadoCivilSql"
   ]
  },
  {
   "cell_type": "code",
   "execution_count": 28,
   "id": "4af62ef3-0085-4144-be9a-8e93867ccb0f",
   "metadata": {},
   "outputs": [
    {
     "data": {
      "text/plain": [
       "FiadorTerceiros\n",
       "1      1\n",
       "2     39\n",
       "3    908\n",
       "4     52\n",
       "dtype: int64"
      ]
     },
     "execution_count": 28,
     "metadata": {},
     "output_type": "execute_result"
    }
   ],
   "source": [
    "# dado categórico\n",
    "dataset.groupby(['FiadorTerceiros']).size()"
   ]
  },
  {
   "cell_type": "code",
   "execution_count": 29,
   "id": "ee7635f0-7159-411d-9597-1c1ee46b44cd",
   "metadata": {
    "tags": []
   },
   "outputs": [
    {
     "data": {
      "text/html": [
       "<div>\n",
       "<style scoped>\n",
       "    .dataframe tbody tr th:only-of-type {\n",
       "        vertical-align: middle;\n",
       "    }\n",
       "\n",
       "    .dataframe tbody tr th {\n",
       "        vertical-align: top;\n",
       "    }\n",
       "\n",
       "    .dataframe thead th {\n",
       "        text-align: right;\n",
       "    }\n",
       "</style>\n",
       "<table border=\"1\" class=\"dataframe\">\n",
       "  <thead>\n",
       "    <tr style=\"text-align: right;\">\n",
       "      <th></th>\n",
       "      <th>0</th>\n",
       "      <th>1</th>\n",
       "    </tr>\n",
       "  </thead>\n",
       "  <tbody>\n",
       "    <tr>\n",
       "      <th>0</th>\n",
       "      <td>1</td>\n",
       "      <td>co aplicante</td>\n",
       "    </tr>\n",
       "    <tr>\n",
       "      <th>1</th>\n",
       "      <td>2</td>\n",
       "      <td>co requerente</td>\n",
       "    </tr>\n",
       "    <tr>\n",
       "      <th>2</th>\n",
       "      <td>3</td>\n",
       "      <td>nao</td>\n",
       "    </tr>\n",
       "    <tr>\n",
       "      <th>3</th>\n",
       "      <td>4</td>\n",
       "      <td>sim</td>\n",
       "    </tr>\n",
       "  </tbody>\n",
       "</table>\n",
       "</div>"
      ],
      "text/plain": [
       "   0              1\n",
       "0  1   co aplicante\n",
       "1  2  co requerente\n",
       "2  3            nao\n",
       "3  4            sim"
      ]
     },
     "execution_count": 29,
     "metadata": {},
     "output_type": "execute_result"
    }
   ],
   "source": [
    "# consulta SQL table fiador\n",
    "cur.execute(\"SELECT * FROM fiador\")\n",
    "registros = cur.fetchall()\n",
    "FiadorTerceirosSql = pd.DataFrame(registros)\n",
    "FiadorTerceirosSql"
   ]
  },
  {
   "cell_type": "code",
   "execution_count": 30,
   "id": "62ecd222-6fc9-4dd6-8fd6-dcb115ee60d8",
   "metadata": {},
   "outputs": [
    {
     "data": {
      "text/plain": [
       "ResidenciaDesde\n",
       "1.0    129\n",
       "2.0    308\n",
       "3.0    147\n",
       "4.0    409\n",
       "dtype: int64"
      ]
     },
     "execution_count": 30,
     "metadata": {},
     "output_type": "execute_result"
    }
   ],
   "source": [
    "# dado categórico (desconhecido / sem tabela SQL)\n",
    "dataset.groupby(['ResidenciaDesde']).size()"
   ]
  },
  {
   "cell_type": "code",
   "execution_count": 31,
   "id": "3758d008-0284-4898-acca-588ac9f4065b",
   "metadata": {
    "tags": []
   },
   "outputs": [
    {
     "data": {
      "text/plain": [
       "7"
      ]
     },
     "execution_count": 31,
     "metadata": {},
     "output_type": "execute_result"
    }
   ],
   "source": [
    "# total de NAs em ResidenciaDesde\n",
    "dataset['ResidenciaDesde'].isnull().sum()"
   ]
  },
  {
   "cell_type": "code",
   "execution_count": 32,
   "id": "18e83217-39b5-484d-b8b8-d4cc6c3be84f",
   "metadata": {
    "tags": []
   },
   "outputs": [
    {
     "data": {
      "text/plain": [
       "0"
      ]
     },
     "execution_count": 32,
     "metadata": {},
     "output_type": "execute_result"
    }
   ],
   "source": [
    "# preencher NAs com a moda do ResidenciaDesde (4) e verifica alteração\n",
    "dataset['ResidenciaDesde'].fillna(4, inplace=True)\n",
    "dataset['ResidenciaDesde'].isnull().sum()"
   ]
  },
  {
   "cell_type": "code",
   "execution_count": 33,
   "id": "669871c2-ad28-4a78-a0ac-1e47d90b87a6",
   "metadata": {
    "tags": []
   },
   "outputs": [
    {
     "data": {
      "text/plain": [
       "ResidenciaDesde\n",
       "1.0    129\n",
       "2.0    308\n",
       "3.0    147\n",
       "4.0    416\n",
       "dtype: int64"
      ]
     },
     "execution_count": 33,
     "metadata": {},
     "output_type": "execute_result"
    }
   ],
   "source": [
    "# verificação\n",
    "dataset.groupby(['ResidenciaDesde']).size()"
   ]
  },
  {
   "cell_type": "code",
   "execution_count": 34,
   "id": "9b0a2dc8-b305-41d0-af76-186c2763afed",
   "metadata": {},
   "outputs": [
    {
     "data": {
      "text/plain": [
       "count    1000.000000\n",
       "mean       35.546000\n",
       "std        11.375469\n",
       "min        19.000000\n",
       "25%        27.000000\n",
       "50%        33.000000\n",
       "75%        42.000000\n",
       "max        75.000000\n",
       "Name: Idade, dtype: float64"
      ]
     },
     "execution_count": 34,
     "metadata": {},
     "output_type": "execute_result"
    }
   ],
   "source": [
    "# dado numérico\n",
    "dataset['Idade'].describe()"
   ]
  },
  {
   "cell_type": "code",
   "execution_count": 35,
   "id": "d3c508b4-3c9c-4322-9d7a-e69e142280f4",
   "metadata": {
    "tags": []
   },
   "outputs": [
    {
     "data": {
      "text/plain": [
       "<seaborn.axisgrid.FacetGrid at 0x173289226d0>"
      ]
     },
     "execution_count": 35,
     "metadata": {},
     "output_type": "execute_result"
    },
    {
     "data": {
      "image/png": "[encoded data removed]",
      "text/plain": [
       "<Figure size 500x500 with 1 Axes>"
      ]
     },
     "metadata": {},
     "output_type": "display_data"
    }
   ],
   "source": [
    "srn.displot(dataset['Idade'], kde=True)"
   ]
  },
  {
   "cell_type": "code",
   "execution_count": 36,
   "id": "34b96af2-82c2-4a06-a6bd-c888a118ed43",
   "metadata": {
    "tags": []
   },
   "outputs": [
    {
     "data": {
      "text/plain": [
       "Text(0.5, 1.0, 'Idade')"
      ]
     },
     "execution_count": 36,
     "metadata": {},
     "output_type": "execute_result"
    },
    {
     "data": {
      "image/png": "[encoded data removed]",
      "text/plain": [
       "<Figure size 640x480 with 1 Axes>"
      ]
     },
     "metadata": {},
     "output_type": "display_data"
    }
   ],
   "source": [
    "srn.boxplot(dataset['Idade']).set_title('Idade')"
   ]
  },
  {
   "cell_type": "code",
   "execution_count": 37,
   "id": "b25148a9-54c2-4b39-9691-38aadfd30c53",
   "metadata": {},
   "outputs": [
    {
     "data": {
      "text/plain": [
       "OutrosFinanciamentos\n",
       "1    139\n",
       "2     47\n",
       "3    814\n",
       "dtype: int64"
      ]
     },
     "execution_count": 37,
     "metadata": {},
     "output_type": "execute_result"
    }
   ],
   "source": [
    "# dado categórico\n",
    "dataset.groupby(['OutrosFinanciamentos']).size()"
   ]
  },
  {
   "cell_type": "code",
   "execution_count": 38,
   "id": "94d8e023-5508-4e91-a859-6ba4638db913",
   "metadata": {
    "tags": []
   },
   "outputs": [
    {
     "data": {
      "text/html": [
       "<div>\n",
       "<style scoped>\n",
       "    .dataframe tbody tr th:only-of-type {\n",
       "        vertical-align: middle;\n",
       "    }\n",
       "\n",
       "    .dataframe tbody tr th {\n",
       "        vertical-align: top;\n",
       "    }\n",
       "\n",
       "    .dataframe thead th {\n",
       "        text-align: right;\n",
       "    }\n",
       "</style>\n",
       "<table border=\"1\" class=\"dataframe\">\n",
       "  <thead>\n",
       "    <tr style=\"text-align: right;\">\n",
       "      <th></th>\n",
       "      <th>0</th>\n",
       "      <th>1</th>\n",
       "    </tr>\n",
       "  </thead>\n",
       "  <tbody>\n",
       "    <tr>\n",
       "      <th>0</th>\n",
       "      <td>1</td>\n",
       "      <td>banco</td>\n",
       "    </tr>\n",
       "    <tr>\n",
       "      <th>1</th>\n",
       "      <td>2</td>\n",
       "      <td>loja</td>\n",
       "    </tr>\n",
       "    <tr>\n",
       "      <th>2</th>\n",
       "      <td>3</td>\n",
       "      <td>nenhum</td>\n",
       "    </tr>\n",
       "  </tbody>\n",
       "</table>\n",
       "</div>"
      ],
      "text/plain": [
       "   0       1\n",
       "0  1   banco\n",
       "1  2    loja\n",
       "2  3  nenhum"
      ]
     },
     "execution_count": 38,
     "metadata": {},
     "output_type": "execute_result"
    }
   ],
   "source": [
    "# consulta SQL table outrosfinanc\n",
    "cur.execute(\"SELECT * FROM outrosfinanc\")\n",
    "registros = cur.fetchall()\n",
    "OutrosFinanciamentosSql = pd.DataFrame(registros)\n",
    "OutrosFinanciamentosSql"
   ]
  },
  {
   "cell_type": "code",
   "execution_count": 39,
   "id": "6bac8eec-84e6-4f75-b416-3c6328955329",
   "metadata": {},
   "outputs": [
    {
     "data": {
      "text/plain": [
       "Habitacao\n",
       "1.0    709\n",
       "2.0    107\n",
       "3.0    175\n",
       "dtype: int64"
      ]
     },
     "execution_count": 39,
     "metadata": {},
     "output_type": "execute_result"
    }
   ],
   "source": [
    "# dado categórico\n",
    "dataset.groupby(['Habitacao']).size()"
   ]
  },
  {
   "cell_type": "code",
   "execution_count": 40,
   "id": "cfc8b37a-d079-4aa9-b1fc-02a48fc27613",
   "metadata": {
    "tags": []
   },
   "outputs": [
    {
     "data": {
      "text/html": [
       "<div>\n",
       "<style scoped>\n",
       "    .dataframe tbody tr th:only-of-type {\n",
       "        vertical-align: middle;\n",
       "    }\n",
       "\n",
       "    .dataframe tbody tr th {\n",
       "        vertical-align: top;\n",
       "    }\n",
       "\n",
       "    .dataframe thead th {\n",
       "        text-align: right;\n",
       "    }\n",
       "</style>\n",
       "<table border=\"1\" class=\"dataframe\">\n",
       "  <thead>\n",
       "    <tr style=\"text-align: right;\">\n",
       "      <th></th>\n",
       "      <th>0</th>\n",
       "      <th>1</th>\n",
       "    </tr>\n",
       "  </thead>\n",
       "  <tbody>\n",
       "    <tr>\n",
       "      <th>0</th>\n",
       "      <td>1</td>\n",
       "      <td>proria</td>\n",
       "    </tr>\n",
       "    <tr>\n",
       "      <th>1</th>\n",
       "      <td>2</td>\n",
       "      <td>de graca</td>\n",
       "    </tr>\n",
       "    <tr>\n",
       "      <th>2</th>\n",
       "      <td>3</td>\n",
       "      <td>alugada</td>\n",
       "    </tr>\n",
       "  </tbody>\n",
       "</table>\n",
       "</div>"
      ],
      "text/plain": [
       "   0         1\n",
       "0  1    proria\n",
       "1  2  de graca\n",
       "2  3   alugada"
      ]
     },
     "execution_count": 40,
     "metadata": {},
     "output_type": "execute_result"
    }
   ],
   "source": [
    "# consulta SQL table habitacao\n",
    "cur.execute(\"SELECT * FROM habitacao\")\n",
    "registros = cur.fetchall()\n",
    "HabitacaoSql = pd.DataFrame(registros)\n",
    "HabitacaoSql"
   ]
  },
  {
   "cell_type": "code",
   "execution_count": 41,
   "id": "8318ea9d-a940-4729-8b99-07d240c0d32c",
   "metadata": {
    "tags": []
   },
   "outputs": [
    {
     "data": {
      "text/plain": [
       "9"
      ]
     },
     "execution_count": 41,
     "metadata": {},
     "output_type": "execute_result"
    }
   ],
   "source": [
    "# total de NAs em Habitacao\n",
    "dataset['Habitacao'].isnull().sum()"
   ]
  },
  {
   "cell_type": "code",
   "execution_count": 42,
   "id": "f9799887-e3bd-4723-ab86-6b8810b1c158",
   "metadata": {
    "tags": []
   },
   "outputs": [
    {
     "data": {
      "text/plain": [
       "0"
      ]
     },
     "execution_count": 42,
     "metadata": {},
     "output_type": "execute_result"
    }
   ],
   "source": [
    "# preencher NAs com a moda do Habitacao (1) e verifica alteração\n",
    "dataset['Habitacao'].fillna(1, inplace=True)\n",
    "dataset['Habitacao'].isnull().sum()"
   ]
  },
  {
   "cell_type": "code",
   "execution_count": 43,
   "id": "b8f626ca-16e8-48b7-8c53-920ed8a2a43f",
   "metadata": {
    "tags": []
   },
   "outputs": [
    {
     "data": {
      "text/plain": [
       "Habitacao\n",
       "1.0    718\n",
       "2.0    107\n",
       "3.0    175\n",
       "dtype: int64"
      ]
     },
     "execution_count": 43,
     "metadata": {},
     "output_type": "execute_result"
    }
   ],
   "source": [
    "# verificação\n",
    "dataset.groupby(['Habitacao']).size()"
   ]
  },
  {
   "cell_type": "code",
   "execution_count": 44,
   "id": "27197c09-4cc9-458a-946e-4671d040e688",
   "metadata": {},
   "outputs": [
    {
     "data": {
      "text/plain": [
       "EmprestimoExistente\n",
       "1    633\n",
       "2    333\n",
       "3     28\n",
       "4      6\n",
       "dtype: int64"
      ]
     },
     "execution_count": 44,
     "metadata": {},
     "output_type": "execute_result"
    }
   ],
   "source": [
    "# dado categórico (desconhecido / sem tabela SQL)\n",
    "dataset.groupby(['EmprestimoExistente']).size()"
   ]
  },
  {
   "cell_type": "code",
   "execution_count": 45,
   "id": "4b681665-9d8e-40b7-acfc-0c2250fdb9ac",
   "metadata": {},
   "outputs": [
    {
     "data": {
      "text/plain": [
       "Profissao\n",
       "1      147\n",
       "2       22\n",
       "3      197\n",
       "4      625\n",
       "999      9\n",
       "dtype: int64"
      ]
     },
     "execution_count": 45,
     "metadata": {},
     "output_type": "execute_result"
    }
   ],
   "source": [
    "# dado categórico\n",
    "dataset.groupby(['Profissao']).size()"
   ]
  },
  {
   "cell_type": "code",
   "execution_count": 46,
   "id": "cd35e40c-1e45-44e5-bb2a-a96498a108c3",
   "metadata": {
    "tags": []
   },
   "outputs": [
    {
     "data": {
      "text/html": [
       "<div>\n",
       "<style scoped>\n",
       "    .dataframe tbody tr th:only-of-type {\n",
       "        vertical-align: middle;\n",
       "    }\n",
       "\n",
       "    .dataframe tbody tr th {\n",
       "        vertical-align: top;\n",
       "    }\n",
       "\n",
       "    .dataframe thead th {\n",
       "        text-align: right;\n",
       "    }\n",
       "</style>\n",
       "<table border=\"1\" class=\"dataframe\">\n",
       "  <thead>\n",
       "    <tr style=\"text-align: right;\">\n",
       "      <th></th>\n",
       "      <th>0</th>\n",
       "      <th>1</th>\n",
       "    </tr>\n",
       "  </thead>\n",
       "  <tbody>\n",
       "    <tr>\n",
       "      <th>0</th>\n",
       "      <td>1</td>\n",
       "      <td>altamente qualificado/empresario</td>\n",
       "    </tr>\n",
       "    <tr>\n",
       "      <th>1</th>\n",
       "      <td>2</td>\n",
       "      <td>desempregado</td>\n",
       "    </tr>\n",
       "    <tr>\n",
       "      <th>2</th>\n",
       "      <td>3</td>\n",
       "      <td>nao qualificado</td>\n",
       "    </tr>\n",
       "    <tr>\n",
       "      <th>3</th>\n",
       "      <td>4</td>\n",
       "      <td>qualificado</td>\n",
       "    </tr>\n",
       "  </tbody>\n",
       "</table>\n",
       "</div>"
      ],
      "text/plain": [
       "   0                                 1\n",
       "0  1  altamente qualificado/empresario\n",
       "1  2                      desempregado\n",
       "2  3                   nao qualificado\n",
       "3  4                       qualificado"
      ]
     },
     "execution_count": 46,
     "metadata": {},
     "output_type": "execute_result"
    }
   ],
   "source": [
    "# consulta SQL table profissao\n",
    "cur.execute(\"SELECT * FROM profissao\")\n",
    "registros = cur.fetchall()\n",
    "ProfissaoSql = pd.DataFrame(registros)\n",
    "ProfissaoSql"
   ]
  },
  {
   "cell_type": "code",
   "execution_count": 47,
   "id": "7d803014-5fad-41b5-be0e-75816890962e",
   "metadata": {
    "tags": []
   },
   "outputs": [
    {
     "data": {
      "text/plain": [
       "Profissao\n",
       "1    147\n",
       "2     22\n",
       "3    197\n",
       "4    634\n",
       "dtype: int64"
      ]
     },
     "execution_count": 47,
     "metadata": {},
     "output_type": "execute_result"
    }
   ],
   "source": [
    "# correção de dados da coluna Profissao \n",
    "dataset.loc[dataset['Profissao'] ==  999, 'Profissao'] = 4\n",
    "dataset.groupby(['Profissao']).size()"
   ]
  },
  {
   "cell_type": "code",
   "execution_count": 48,
   "id": "82154e12-16df-4084-ad8f-9c5e1e6d1905",
   "metadata": {},
   "outputs": [
    {
     "data": {
      "text/plain": [
       "Dependentes\n",
       "1    845\n",
       "2    155\n",
       "dtype: int64"
      ]
     },
     "execution_count": 48,
     "metadata": {},
     "output_type": "execute_result"
    }
   ],
   "source": [
    "# dado categórico (desconhecido / sem tabela SQL)\n",
    "dataset.groupby(['Dependentes']).size()"
   ]
  },
  {
   "cell_type": "code",
   "execution_count": 49,
   "id": "9b68fddf-6dfb-4658-89ae-b91295253081",
   "metadata": {},
   "outputs": [
    {
     "data": {
      "text/plain": [
       "SocioEmpresa\n",
       "0    596\n",
       "1    404\n",
       "dtype: int64"
      ]
     },
     "execution_count": 49,
     "metadata": {},
     "output_type": "execute_result"
    }
   ],
   "source": [
    "# dado categórico (desconhecido / sem tabela SQL)\n",
    "dataset.groupby(['SocioEmpresa']).size()"
   ]
  },
  {
   "cell_type": "code",
   "execution_count": 50,
   "id": "ba2dd997-91ac-4194-96da-25844ecc0369",
   "metadata": {},
   "outputs": [
    {
     "data": {
      "text/plain": [
       "Estrangeiro\n",
       "0    963\n",
       "1     37\n",
       "dtype: int64"
      ]
     },
     "execution_count": 50,
     "metadata": {},
     "output_type": "execute_result"
    }
   ],
   "source": [
    "# dado categórico (desconhecido / sem tabela SQL)\n",
    "dataset.groupby(['Estrangeiro']).size()"
   ]
  },
  {
   "cell_type": "code",
   "execution_count": 51,
   "id": "954c5404-bc5d-4508-8244-7966e16e517d",
   "metadata": {
    "tags": []
   },
   "outputs": [
    {
     "data": {
      "text/plain": [
       "Status\n",
       "0    300\n",
       "1    700\n",
       "dtype: int64"
      ]
     },
     "execution_count": 51,
     "metadata": {},
     "output_type": "execute_result"
    }
   ],
   "source": [
    "# dado categórico (desconhecido / sem tabela SQL)\n",
    "dataset.groupby(['Status']).size()"
   ]
  },
  {
   "cell_type": "code",
   "execution_count": 52,
   "id": "a6fad424-fdd0-48a0-adc5-5e4a83d94a22",
   "metadata": {
    "tags": []
   },
   "outputs": [
    {
     "data": {
      "text/plain": [
       "IDCREDITO               0\n",
       "Duracao                 0\n",
       "HistoricoCredito        0\n",
       "Proposito               0\n",
       "Valor                   0\n",
       "Investimentos           0\n",
       "Emprego                 0\n",
       "TempoParcelamento       0\n",
       "EstadoCivil             0\n",
       "FiadorTerceiros         0\n",
       "ResidenciaDesde         0\n",
       "Idade                   0\n",
       "OutrosFinanciamentos    0\n",
       "Habitacao               0\n",
       "EmprestimoExistente     0\n",
       "Profissao               0\n",
       "Dependentes             0\n",
       "SocioEmpresa            0\n",
       "Estrangeiro             0\n",
       "Status                  0\n",
       "dtype: int64"
      ]
     },
     "execution_count": 52,
     "metadata": {},
     "output_type": "execute_result"
    }
   ],
   "source": [
    "#verificar valores NAN\n",
    "dataset.isnull().sum()"
   ]
  },
  {
   "cell_type": "code",
   "execution_count": 53,
   "id": "9b1a8b2e-0ede-4db1-8be8-fbcc87e2dec7",
   "metadata": {},
   "outputs": [],
   "source": [
    "# fechar a conexão com o banco de dados\n",
    "conn.close()"
   ]
  },
  {
   "cell_type": "code",
   "execution_count": 54,
   "id": "1e3f25fa-93b9-4b37-a93f-6f81cc42153c",
   "metadata": {
    "tags": []
   },
   "outputs": [],
   "source": [
    "# FIM TRATAMENTO DE DADOS"
   ]
  },
  {
   "cell_type": "code",
   "execution_count": 55,
   "id": "5d21ee5e-fed8-4aa8-aa52-7a41515de637",
   "metadata": {
    "tags": []
   },
   "outputs": [],
   "source": [
    "# INÍCIO DECISION TREE CLASSIFIER"
   ]
  },
  {
   "cell_type": "code",
   "execution_count": 56,
   "id": "76fbfba9-6255-471e-85b3-b909f895a7f7",
   "metadata": {},
   "outputs": [
    {
     "data": {
      "text/plain": [
       "array([[48.,  2.,  1., ...,  1.,  0.,  0.],\n",
       "       [12.,  1.,  2., ...,  2.,  0.,  0.],\n",
       "       [42.,  2.,  3., ...,  2.,  0.,  0.],\n",
       "       ...,\n",
       "       [18.,  2.,  1., ...,  1.,  0.,  0.],\n",
       "       [ 6.,  2., 10., ...,  2.,  1.,  0.],\n",
       "       [24.,  2.,  6., ...,  1.,  1.,  0.]])"
      ]
     },
     "execution_count": 56,
     "metadata": {},
     "output_type": "execute_result"
    }
   ],
   "source": [
    "# formato de matriz\n",
    "\n",
    "# os previsores são todas as informações que utilizaremos no métoda de árvores de decisão para definir o status\n",
    "previsores = dataset.iloc[:,1:19].values\n",
    "\n",
    "# o status é o que estamos querendo classificar (adimplente ou inadimplente)\n",
    "status = dataset.iloc[:,19].values\n",
    "\n",
    "previsores\n",
    "#status"
   ]
  },
  {
   "cell_type": "code",
   "execution_count": 57,
   "id": "db64f1ba-6d6a-4b11-b03f-a6bd4f4d6727",
   "metadata": {},
   "outputs": [
    {
     "data": {
      "text/plain": [
       "array([[12.,  2.,  4., ...,  1.,  1.,  0.],\n",
       "       [24.,  2.,  5., ...,  1.,  1.,  0.],\n",
       "       [12.,  2.,  1., ...,  1.,  1.,  0.],\n",
       "       ...,\n",
       "       [ 6.,  5.,  4., ...,  2.,  0.,  0.],\n",
       "       [15.,  1.,  5., ...,  1.,  1.,  0.],\n",
       "       [24.,  2.,  1., ...,  1.,  0.,  0.]])"
      ]
     },
     "execution_count": 57,
     "metadata": {},
     "output_type": "execute_result"
    }
   ],
   "source": [
    "# Divisão da base de dados entre treinamento e teste (30% para testar e 70% para treinar)\n",
    "#X: Matriz de características (ou seja, os atributos/variáveis independentes).\n",
    "#y: Vetor de rótulos (ou seja, as classes/targets que você está tentando prever).\n",
    "#test_size: A proporção do conjunto de teste em relação ao conjunto total. Geralmente é especificado como um valor entre 0 e 1. Por exemplo, test_size=0.2 indica que 20% dos dados serão usados como conjunto de teste.\n",
    "#random_state: O valor do semente (seed) aleatório. Isso garante que a divisão dos dados seja reproducível.\n",
    "\n",
    "X_treinamento, X_teste, y_treinamento, y_teste = train_test_split(previsores,\n",
    "                                                                  status,\n",
    "                                                                  test_size = 0.3,\n",
    "                                                                  random_state = 0)\n",
    "X_teste"
   ]
  },
  {
   "cell_type": "code",
   "execution_count": 58,
   "id": "28b7f608-0e57-4774-8f73-ed91f6df9542",
   "metadata": {},
   "outputs": [
    {
     "data": {
      "text/html": [
       "<style>#sk-container-id-1 {color: black;background-color: white;}#sk-container-id-1 pre{padding: 0;}#sk-container-id-1 div.sk-toggleable {background-color: white;}#sk-container-id-1 label.sk-toggleable__label {cursor: pointer;display: block;width: 100%;margin-bottom: 0;padding: 0.3em;box-sizing: border-box;text-align: center;}#sk-container-id-1 label.sk-toggleable__label-arrow:before {content: \"▸\";float: left;margin-right: 0.25em;color: #696969;}#sk-container-id-1 label.sk-toggleable__label-arrow:hover:before {color: black;}#sk-container-id-1 div.sk-estimator:hover label.sk-toggleable__label-arrow:before {color: black;}#sk-container-id-1 div.sk-toggleable__content {max-height: 0;max-width: 0;overflow: hidden;text-align: left;background-color: #f0f8ff;}#sk-container-id-1 div.sk-toggleable__content pre {margin: 0.2em;color: black;border-radius: 0.25em;background-color: #f0f8ff;}#sk-container-id-1 input.sk-toggleable__control:checked~div.sk-toggleable__content {max-height: 200px;max-width: 100%;overflow: auto;}#sk-container-id-1 input.sk-toggleable__control:checked~label.sk-toggleable__label-arrow:before {content: \"▾\";}#sk-container-id-1 div.sk-estimator input.sk-toggleable__control:checked~label.sk-toggleable__label {background-color: #d4ebff;}#sk-container-id-1 div.sk-label input.sk-toggleable__control:checked~label.sk-toggleable__label {background-color: #d4ebff;}#sk-container-id-1 input.sk-hidden--visually {border: 0;clip: rect(1px 1px 1px 1px);clip: rect(1px, 1px, 1px, 1px);height: 1px;margin: -1px;overflow: hidden;padding: 0;position: absolute;width: 1px;}#sk-container-id-1 div.sk-estimator {font-family: monospace;background-color: #f0f8ff;border: 1px dotted black;border-radius: 0.25em;box-sizing: border-box;margin-bottom: 0.5em;}#sk-container-id-1 div.sk-estimator:hover {background-color: #d4ebff;}#sk-container-id-1 div.sk-parallel-item::after {content: \"\";width: 100%;border-bottom: 1px solid gray;flex-grow: 1;}#sk-container-id-1 div.sk-label:hover label.sk-toggleable__label {background-color: #d4ebff;}#sk-container-id-1 div.sk-serial::before {content: \"\";position: absolute;border-left: 1px solid gray;box-sizing: border-box;top: 0;bottom: 0;left: 50%;z-index: 0;}#sk-container-id-1 div.sk-serial {display: flex;flex-direction: column;align-items: center;background-color: white;padding-right: 0.2em;padding-left: 0.2em;position: relative;}#sk-container-id-1 div.sk-item {position: relative;z-index: 1;}#sk-container-id-1 div.sk-parallel {display: flex;align-items: stretch;justify-content: center;background-color: white;position: relative;}#sk-container-id-1 div.sk-item::before, #sk-container-id-1 div.sk-parallel-item::before {content: \"\";position: absolute;border-left: 1px solid gray;box-sizing: border-box;top: 0;bottom: 0;left: 50%;z-index: -1;}#sk-container-id-1 div.sk-parallel-item {display: flex;flex-direction: column;z-index: 1;position: relative;background-color: white;}#sk-container-id-1 div.sk-parallel-item:first-child::after {align-self: flex-end;width: 50%;}#sk-container-id-1 div.sk-parallel-item:last-child::after {align-self: flex-start;width: 50%;}#sk-container-id-1 div.sk-parallel-item:only-child::after {width: 0;}#sk-container-id-1 div.sk-dashed-wrapped {border: 1px dashed gray;margin: 0 0.4em 0.5em 0.4em;box-sizing: border-box;padding-bottom: 0.4em;background-color: white;}#sk-container-id-1 div.sk-label label {font-family: monospace;font-weight: bold;display: inline-block;line-height: 1.2em;}#sk-container-id-1 div.sk-label-container {text-align: center;}#sk-container-id-1 div.sk-container {/* jupyter's `normalize.less` sets `[hidden] { display: none; }` but bootstrap.min.css set `[hidden] { display: none !important; }` so we also need the `!important` here to be able to override the default hidden behavior on the sphinx rendered scikit-learn.org. See: https://github.com/scikit-learn/scikit-learn/issues/21755 */display: inline-block !important;position: relative;}#sk-container-id-1 div.sk-text-repr-fallback {display: none;}</style><div id=\"sk-container-id-1\" class=\"sk-top-container\"><div class=\"sk-text-repr-fallback\"><pre>DecisionTreeClassifier()</pre><b>In a Jupyter environment, please rerun this cell to show the HTML representation or trust the notebook. <br />On GitHub, the HTML representation is unable to render, please try loading this page with nbviewer.org.</b></div><div class=\"sk-container\" hidden><div class=\"sk-item\"><div class=\"sk-estimator sk-toggleable\"><input class=\"sk-toggleable__control sk-hidden--visually\" id=\"sk-estimator-id-1\" type=\"checkbox\" checked><label for=\"sk-estimator-id-1\" class=\"sk-toggleable__label sk-toggleable__label-arrow\">DecisionTreeClassifier</label><div class=\"sk-toggleable__content\"><pre>DecisionTreeClassifier()</pre></div></div></div></div></div>"
      ],
      "text/plain": [
       "DecisionTreeClassifier()"
      ]
     },
     "execution_count": 58,
     "metadata": {},
     "output_type": "execute_result"
    }
   ],
   "source": [
    "# Criação e treinamento do modelo\n",
    "arvore = DecisionTreeClassifier()\n",
    "arvore.fit(X_treinamento, y_treinamento)"
   ]
  },
  {
   "cell_type": "code",
   "execution_count": 59,
   "id": "7d096bea-2625-4f6d-9b6e-dbf8afdfa7ff",
   "metadata": {},
   "outputs": [],
   "source": [
    "# Exportação da árvore de decisão para o formato .dot, para posterior visualização\n",
    "export_graphviz(arvore, out_file = 'treeProjetoFinal.dot')"
   ]
  },
  {
   "cell_type": "code",
   "execution_count": 60,
   "id": "e7b682da-f052-479b-9899-1f6b729c5b7c",
   "metadata": {},
   "outputs": [
    {
     "data": {
      "text/plain": [
       "array([1, 1, 1, 0, 1, 1, 1, 0, 0, 1, 1, 0, 1, 1, 1, 0, 1, 1, 1, 0, 1, 1,\n",
       "       0, 0, 1, 1, 1, 1, 1, 0, 1, 1, 1, 0, 1, 0, 0, 1, 1, 1, 1, 1, 1, 1,\n",
       "       1, 1, 1, 1, 1, 0, 1, 1, 1, 0, 0, 1, 1, 1, 1, 1, 0, 0, 0, 1, 0, 1,\n",
       "       0, 1, 1, 1, 1, 0, 1, 1, 1, 0, 1, 1, 1, 0, 1, 0, 1, 1, 0, 1, 1, 1,\n",
       "       1, 0, 0, 0, 0, 1, 1, 0, 0, 1, 1, 1, 1, 1, 0, 1, 0, 0, 0, 0, 1, 0,\n",
       "       1, 1, 1, 1, 0, 1, 1, 0, 0, 1, 1, 1, 0, 1, 0, 1, 1, 1, 1, 1, 1, 1,\n",
       "       1, 0, 0, 1, 1, 0, 0, 0, 1, 1, 0, 1, 1, 1, 0, 1, 0, 1, 1, 0, 1, 1,\n",
       "       0, 0, 1, 0, 1, 1, 0, 1, 0, 1, 1, 1, 0, 1, 1, 1, 0, 1, 1, 1, 0, 1,\n",
       "       1, 1, 1, 1, 1, 1, 1, 1, 0, 1, 1, 0, 1, 1, 1, 1, 1, 1, 0, 0, 0, 0,\n",
       "       1, 1, 0, 1, 0, 1, 1, 0, 1, 1, 1, 1, 1, 1, 1, 0, 1, 0, 1, 1, 1, 0,\n",
       "       1, 1, 1, 1, 1, 1, 1, 0, 1, 1, 1, 1, 1, 0, 1, 1, 0, 1, 1, 0, 1, 1,\n",
       "       1, 0, 1, 0, 1, 1, 0, 1, 1, 1, 1, 1, 1, 1, 1, 0, 1, 1, 1, 1, 1, 1,\n",
       "       1, 1, 1, 1, 1, 1, 1, 1, 0, 1, 1, 0, 1, 1, 0, 1, 1, 1, 0, 1, 1, 1,\n",
       "       1, 0, 1, 0, 0, 0, 0, 1, 1, 0, 1, 0, 1, 0], dtype=int64)"
      ]
     },
     "execution_count": 60,
     "metadata": {},
     "output_type": "execute_result"
    }
   ],
   "source": [
    "# Obtenção das previsões\n",
    "previsoes = arvore.predict(X_teste)\n",
    "previsoes"
   ]
  },
  {
   "cell_type": "code",
   "execution_count": 61,
   "id": "23926097-fa2e-4cc6-a141-e5ef1aa61022",
   "metadata": {},
   "outputs": [
    {
     "data": {
      "text/plain": [
       "array([[ 32,  43],\n",
       "       [ 59, 166]], dtype=int64)"
      ]
     },
     "execution_count": 61,
     "metadata": {},
     "output_type": "execute_result"
    }
   ],
   "source": [
    "#matriz de confusão\n",
    "confusao = confusion_matrix(y_teste, previsoes)\n",
    "confusao"
   ]
  },
  {
   "cell_type": "code",
   "execution_count": 62,
   "id": "5d7d2a71-394a-41c0-8d69-7e0528e5c901",
   "metadata": {},
   "outputs": [
    {
     "data": {
      "text/plain": [
       "0.66"
      ]
     },
     "execution_count": 62,
     "metadata": {},
     "output_type": "execute_result"
    }
   ],
   "source": [
    "#taxa acerto\n",
    "taxa_acerto = accuracy_score(y_teste, previsoes)\n",
    "taxa_acerto"
   ]
  },
  {
   "cell_type": "code",
   "execution_count": 63,
   "id": "d235f802-6001-4968-9130-0a1915c2b286",
   "metadata": {},
   "outputs": [
    {
     "data": {
      "text/plain": [
       "0.33999999999999997"
      ]
     },
     "execution_count": 63,
     "metadata": {},
     "output_type": "execute_result"
    }
   ],
   "source": [
    "#taxa erro\n",
    "taxa_erro = 1 - taxa_acerto\n",
    "taxa_erro"
   ]
  },
  {
   "cell_type": "code",
   "execution_count": 64,
   "id": "765bace8-6bd7-4872-bbbc-3961fd91dd07",
   "metadata": {},
   "outputs": [],
   "source": [
    "# FIM DECISION TREE CLASSIFIER"
   ]
  }
 ],
 "metadata": {
  "kernelspec": {
   "display_name": "Python 3 (ipykernel)",
   "language": "python",
   "name": "python3"
  },
  "language_info": {
   "codemirror_mode": {
    "name": "ipython",
    "version": 3
   },
   "file_extension": ".py",
   "mimetype": "text/x-python",
   "name": "python",
   "nbconvert_exporter": "python",
   "pygments_lexer": "ipython3",
   "version": "3.11.3"
  }
 },
 "nbformat": 4,
 "nbformat_minor": 5
}
